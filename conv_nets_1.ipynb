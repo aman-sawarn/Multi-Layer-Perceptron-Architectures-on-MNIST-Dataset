{
  "nbformat": 4,
  "nbformat_minor": 0,
  "metadata": {
    "colab": {
      "name": "conv_nets_1.ipynb",
      "version": "0.3.2",
      "provenance": [],
      "collapsed_sections": [],
      "include_colab_link": true
    },
    "kernelspec": {
      "name": "python3",
      "display_name": "Python 3"
    }
  },
  "cells": [
    {
      "cell_type": "markdown",
      "metadata": {
        "id": "view-in-github",
        "colab_type": "text"
      },
      "source": [
        "<a href=\"https://colab.research.google.com/github/sawarn69/Multi-Layer-Perceptron-Architectures-on-MNIST-Dataset/blob/master/conv_nets_1.ipynb\" target=\"_parent\"><img src=\"https://colab.research.google.com/assets/colab-badge.svg\" alt=\"Open In Colab\"/></a>"
      ]
    },
    {
      "cell_type": "code",
      "metadata": {
        "id": "83O9UdwLXMcu",
        "colab_type": "code",
        "outputId": "bbeee2ab-82d0-4f54-c75a-6f5c14eb08b6",
        "colab": {
          "base_uri": "https://localhost:8080/",
          "height": 900
        }
      },
      "source": [
        "from __future__ import print_function\n",
        "import keras\n",
        "from keras.datasets import mnist\n",
        "from keras.models import Sequential\n",
        "from keras.layers import Dense, Dropout, Flatten\n",
        "from keras.layers import Conv2D, MaxPooling2D\n",
        "from keras import backend as K\n",
        "\n",
        "\n",
        "def plt_dynamic(x, vy, ty, ax, colors=['b']):\n",
        "    ax.plot(x, vy, 'b', label=\"Validation Loss\")\n",
        "    ax.plot(x, ty, 'r', label=\"Train Loss\")\n",
        "    plt.legend()\n",
        "    plt.grid()\n",
        "    fig.canvas.draw()\n",
        "\n",
        "\n",
        "\n",
        "batch_size = 128\n",
        "num_classes = 10\n",
        "epochs = 12\n",
        "\n",
        "# input image dimensions\n",
        "img_rows, img_cols = 28, 28\n",
        "\n",
        "# the data, split between train and test sets\n",
        "(x_train, y_train), (x_test, y_test) = mnist.load_data()\n",
        "\n",
        "if K.image_data_format() == 'channels_first':\n",
        "    x_train = x_train.reshape(x_train.shape[0], 1, img_rows, img_cols)\n",
        "    x_test = x_test.reshape(x_test.shape[0], 1, img_rows, img_cols)\n",
        "    input_shape = (1, img_rows, img_cols)\n",
        "else:\n",
        "    x_train = x_train.reshape(x_train.shape[0], img_rows, img_cols, 1)\n",
        "    x_test = x_test.reshape(x_test.shape[0], img_rows, img_cols, 1)\n",
        "    input_shape = (img_rows, img_cols, 1)\n",
        "\n",
        "x_train = x_train.astype('float32')\n",
        "x_test = x_test.astype('float32')\n",
        "x_train /= 255\n",
        "x_test /= 255\n",
        "print('x_train shape:', x_train.shape)\n",
        "print(x_train.shape[0], 'train samples')\n",
        "print(x_test.shape[0], 'test samples')\n",
        "\n",
        "# convert class vectors to binary class matrices\n",
        "y_train = keras.utils.to_categorical(y_train, num_classes)\n",
        "y_test = keras.utils.to_categorical(y_test, num_classes)\n",
        "\n",
        "model = Sequential()\n",
        "model.add(Conv2D(56, kernel_size=(2, 2),\n",
        "                 activation='relu',\n",
        "                 input_shape=input_shape))\n",
        "model.add(Conv2D(64, (3, 3), activation='relu'))\n",
        "model.add(MaxPooling2D(pool_size=(2, 2)))\n",
        "model.add(Dropout(0.35))\n",
        "model.add(Flatten())\n",
        "model.add(Dense(128, activation='relu'))\n",
        "model.add(Dropout(0.5))\n",
        "model.add(Dense(num_classes, activation='softmax'))\n",
        "\n",
        "# model.add(Conv2D(32, kernel_size=(3, 3),\n",
        "#                  activation='relu',\n",
        "#                  input_shape=input_shape))\n",
        "# model.add(Conv2D(64, (3, 3), activation='relu'))\n",
        "# model.add(MaxPooling2D(pool_size=(2, 2)))\n",
        "# model.add(Dropout(0.35))\n",
        "# model.add(Flatten())\n",
        "# model.add(Dense(128, activation='relu'))\n",
        "# model.add(Dropout(0.5))\n",
        "# model.add(Dense(num_classes, activation='softmax'))\n",
        "\n",
        "model.compile(loss=keras.losses.categorical_crossentropy,\n",
        "              optimizer=keras.optimizers.Adadelta(),\n",
        "              metrics=['accuracy'])\n",
        "\n",
        "# model.fit(x_train, y_train,\n",
        "#           batch_size=batch_size,\n",
        "#           epochs=epochs,\n",
        "#           verbose=1,\n",
        "#           validation_data=(x_test, y_test))\n",
        "# score = model.evaluate(x_test, y_test, verbose=0)\n",
        "# print('Test loss:', score[0])\n",
        "# print('Test accuracy:', score[1])\n",
        "\n",
        "\n",
        "history = model.fit(x_train, y_train, batch_size=batch_size, epochs=20, verbose=1, validation_data=(x_test, y_test))"
      ],
      "execution_count": 3,
      "outputs": [
        {
          "output_type": "stream",
          "text": [
            "x_train shape: (60000, 28, 28, 1)\n",
            "60000 train samples\n",
            "10000 test samples\n",
            "WARNING:tensorflow:From /usr/local/lib/python3.6/dist-packages/tensorflow/python/ops/math_ops.py:3066: to_int32 (from tensorflow.python.ops.math_ops) is deprecated and will be removed in a future version.\n",
            "Instructions for updating:\n",
            "Use tf.cast instead.\n",
            "Train on 60000 samples, validate on 10000 samples\n",
            "Epoch 1/20\n",
            "60000/60000 [==============================] - 261s 4ms/step - loss: 0.2895 - acc: 0.9097 - val_loss: 0.0649 - val_acc: 0.9789\n",
            "Epoch 2/20\n",
            "60000/60000 [==============================] - 260s 4ms/step - loss: 0.1007 - acc: 0.9702 - val_loss: 0.0487 - val_acc: 0.9848\n",
            "Epoch 3/20\n",
            "60000/60000 [==============================] - 260s 4ms/step - loss: 0.0765 - acc: 0.9767 - val_loss: 0.0391 - val_acc: 0.9870\n",
            "Epoch 4/20\n",
            "60000/60000 [==============================] - 260s 4ms/step - loss: 0.0640 - acc: 0.9814 - val_loss: 0.0363 - val_acc: 0.9876\n",
            "Epoch 5/20\n",
            "60000/60000 [==============================] - 259s 4ms/step - loss: 0.0546 - acc: 0.9832 - val_loss: 0.0340 - val_acc: 0.9886\n",
            "Epoch 6/20\n",
            "60000/60000 [==============================] - 261s 4ms/step - loss: 0.0500 - acc: 0.9851 - val_loss: 0.0310 - val_acc: 0.9889\n",
            "Epoch 7/20\n",
            "60000/60000 [==============================] - 260s 4ms/step - loss: 0.0454 - acc: 0.9864 - val_loss: 0.0319 - val_acc: 0.9897\n",
            "Epoch 8/20\n",
            "60000/60000 [==============================] - 260s 4ms/step - loss: 0.0438 - acc: 0.9870 - val_loss: 0.0336 - val_acc: 0.9888\n",
            "Epoch 9/20\n",
            "60000/60000 [==============================] - 259s 4ms/step - loss: 0.0405 - acc: 0.9876 - val_loss: 0.0309 - val_acc: 0.9900\n",
            "Epoch 10/20\n",
            "60000/60000 [==============================] - 252s 4ms/step - loss: 0.0378 - acc: 0.9886 - val_loss: 0.0301 - val_acc: 0.9899\n",
            "Epoch 11/20\n",
            "60000/60000 [==============================] - 253s 4ms/step - loss: 0.0365 - acc: 0.9887 - val_loss: 0.0299 - val_acc: 0.9906\n",
            "Epoch 12/20\n",
            "60000/60000 [==============================] - 250s 4ms/step - loss: 0.0347 - acc: 0.9900 - val_loss: 0.0314 - val_acc: 0.9892\n",
            "Epoch 13/20\n",
            "60000/60000 [==============================] - 249s 4ms/step - loss: 0.0343 - acc: 0.9895 - val_loss: 0.0282 - val_acc: 0.9912\n",
            "Epoch 14/20\n",
            "60000/60000 [==============================] - 243s 4ms/step - loss: 0.0306 - acc: 0.9903 - val_loss: 0.0326 - val_acc: 0.9900\n",
            "Epoch 15/20\n",
            "60000/60000 [==============================] - 240s 4ms/step - loss: 0.0296 - acc: 0.9908 - val_loss: 0.0290 - val_acc: 0.9915\n",
            "Epoch 16/20\n",
            "60000/60000 [==============================] - 249s 4ms/step - loss: 0.0309 - acc: 0.9902 - val_loss: 0.0292 - val_acc: 0.9902\n",
            "Epoch 17/20\n",
            "60000/60000 [==============================] - 249s 4ms/step - loss: 0.0303 - acc: 0.9910 - val_loss: 0.0325 - val_acc: 0.9903\n",
            "Epoch 18/20\n",
            "60000/60000 [==============================] - 253s 4ms/step - loss: 0.0292 - acc: 0.9910 - val_loss: 0.0300 - val_acc: 0.9912\n",
            "Epoch 19/20\n",
            "60000/60000 [==============================] - 262s 4ms/step - loss: 0.0269 - acc: 0.9919 - val_loss: 0.0362 - val_acc: 0.9906\n",
            "Epoch 20/20\n",
            "60000/60000 [==============================] - 261s 4ms/step - loss: 0.0272 - acc: 0.9918 - val_loss: 0.0324 - val_acc: 0.9904\n"
          ],
          "name": "stdout"
        }
      ]
    },
    {
      "cell_type": "code",
      "metadata": {
        "id": "huyBM836X7EH",
        "colab_type": "code",
        "colab": {
          "base_uri": "https://localhost:8080/",
          "height": 320
        },
        "outputId": "43509d81-528f-4e17-9e99-8c94106337a1"
      },
      "source": [
        "import matplotlib.pyplot as plt\n",
        "%matplotlib inline\n",
        "\n",
        "score = model.evaluate(x_test, y_test, verbose=0) \n",
        "print('Test score:', score[0]) \n",
        "print('Test accuracy:', score[1])\n",
        "\n",
        "fig,ax = plt.subplots(1,1)\n",
        "ax.set_xlabel('epoch') ; ax.set_ylabel('Categorical Crossentropy Loss')\n",
        "\n",
        "# list of epoch numbers\n",
        "x = list(range(1,21))\n",
        "\n",
        "# print(history.history.keys())\n",
        "# dict_keys(['val_loss', 'val_acc', 'loss', 'acc'])\n",
        "# history = model_drop.fit(X_train, Y_train, batch_size=batch_size, epochs=nb_epoch, verbose=1, validation_data=(X_test, Y_test))\n",
        "\n",
        "# we will get val_loss and val_acc only when you pass the paramter validation_data\n",
        "# val_loss : validation loss\n",
        "# val_acc : validation accuracy\n",
        "\n",
        "# loss : training loss\n",
        "# acc : train accuracy\n",
        "# for each key in histrory.histrory we will have a list of length equal to number of epochs\n",
        "\n",
        "vy = history.history['val_loss']\n",
        "ty = history.history['loss']\n",
        "plt_dynamic(x, vy, ty, ax)"
      ],
      "execution_count": 6,
      "outputs": [
        {
          "output_type": "stream",
          "text": [
            "Test score: 0.032423312679478934\n",
            "Test accuracy: 0.9904\n"
          ],
          "name": "stdout"
        },
        {
          "output_type": "display_data",
          "data": {
            "image/png": "[encoded data removed]",
            "text/plain": [
              "<Figure size 432x288 with 1 Axes>"
            ]
          },
          "metadata": {
            "tags": []
          }
        }
      ]
    },
    {
      "cell_type": "code",
      "metadata": {
        "id": "i7owzJceswx_",
        "colab_type": "code",
        "colab": {}
      },
      "source": [
        ""
      ],
      "execution_count": 0,
      "outputs": []
    },
    {
      "cell_type": "code",
      "metadata": {
        "id": "C2yjtwsfsws0",
        "colab_type": "code",
        "colab": {}
      },
      "source": [
        ""
      ],
      "execution_count": 0,
      "outputs": []
    }
  ]
}