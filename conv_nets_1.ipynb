{
  "nbformat": 4,
  "nbformat_minor": 0,
  "metadata": {
    "colab": {
      "name": "conv_nets_1.ipynb",
      "version": "0.3.2",
      "provenance": [],
      "collapsed_sections": [],
      "include_colab_link": true
    },
    "kernelspec": {
      "name": "python3",
      "display_name": "Python 3"
    }
  },
  "cells": [
    {
      "cell_type": "markdown",
      "metadata": {
        "id": "view-in-github",
        "colab_type": "text"
      },
      "source": [
        "<a href=\"https://colab.research.google.com/github/sawarn69/Multi-Layer-Perceptron-Architectures-on-MNIST-Dataset/blob/master/conv_nets_1.ipynb\" target=\"_parent\"><img src=\"https://colab.research.google.com/assets/colab-badge.svg\" alt=\"Open In Colab\"/></a>"
      ]
    },
    {
      "cell_type": "code",
      "metadata": {
        "id": "83O9UdwLXMcu",
        "colab_type": "code",
        "colab": {
          "base_uri": "https://localhost:8080/",
          "height": 643
        },
        "outputId": "71cde110-bf82-44d9-c050-e514704a4264"
      },
      "source": [
        "from __future__ import print_function\n",
        "import keras\n",
        "from keras.datasets import mnist\n",
        "from keras.models import Sequential\n",
        "from keras.layers import Dense, Dropout, Flatten\n",
        "from keras.layers import Conv2D, MaxPooling2D\n",
        "from keras import backend as K\n",
        "\n",
        "batch_size = 128\n",
        "num_classes = 10\n",
        "epochs = 12\n",
        "\n",
        "# input image dimensions\n",
        "img_rows, img_cols = 28, 28\n",
        "\n",
        "# the data, split between train and test sets\n",
        "(x_train, y_train), (x_test, y_test) = mnist.load_data()\n",
        "\n",
        "if K.image_data_format() == 'channels_first':\n",
        "    x_train = x_train.reshape(x_train.shape[0], 1, img_rows, img_cols)\n",
        "    x_test = x_test.reshape(x_test.shape[0], 1, img_rows, img_cols)\n",
        "    input_shape = (1, img_rows, img_cols)\n",
        "else:\n",
        "    x_train = x_train.reshape(x_train.shape[0], img_rows, img_cols, 1)\n",
        "    x_test = x_test.reshape(x_test.shape[0], img_rows, img_cols, 1)\n",
        "    input_shape = (img_rows, img_cols, 1)\n",
        "\n",
        "x_train = x_train.astype('float32')\n",
        "x_test = x_test.astype('float32')\n",
        "x_train /= 255\n",
        "x_test /= 255\n",
        "print('x_train shape:', x_train.shape)\n",
        "print(x_train.shape[0], 'train samples')\n",
        "print(x_test.shape[0], 'test samples')\n",
        "\n",
        "# convert class vectors to binary class matrices\n",
        "y_train = keras.utils.to_categorical(y_train, num_classes)\n",
        "y_test = keras.utils.to_categorical(y_test, num_classes)\n",
        "\n",
        "model = Sequential()\n",
        "model.add(Conv2D(56, kernel_size=(2, 2),\n",
        "                 activation='relu',\n",
        "                 input_shape=input_shape))\n",
        "model.add(Conv2D(64, (3, 3), activation='relu'))\n",
        "model.add(MaxPooling2D(pool_size=(2, 2)))\n",
        "model.add(Dropout(0.35))\n",
        "model.add(Flatten())\n",
        "model.add(Dense(128, activation='relu'))\n",
        "model.add(Dropout(0.5))\n",
        "model.add(Dense(num_classes, activation='softmax'))\n",
        "\n",
        "# model.add(Conv2D(32, kernel_size=(3, 3),\n",
        "#                  activation='relu',\n",
        "#                  input_shape=input_shape))\n",
        "# model.add(Conv2D(64, (3, 3), activation='relu'))\n",
        "# model.add(MaxPooling2D(pool_size=(2, 2)))\n",
        "# model.add(Dropout(0.35))\n",
        "# model.add(Flatten())\n",
        "# model.add(Dense(128, activation='relu'))\n",
        "# model.add(Dropout(0.5))\n",
        "# model.add(Dense(num_classes, activation='softmax'))\n",
        "\n",
        "model.compile(loss=keras.losses.categorical_crossentropy,\n",
        "              optimizer=keras.optimizers.Adadelta(),\n",
        "              metrics=['accuracy'])\n",
        "\n",
        "model.fit(x_train, y_train,\n",
        "          batch_size=batch_size,\n",
        "          epochs=epochs,\n",
        "          verbose=1,\n",
        "          validation_data=(x_test, y_test))\n",
        "score = model.evaluate(x_test, y_test, verbose=0)\n",
        "print('Test loss:', score[0])\n",
        "print('Test accuracy:', score[1])"
      ],
      "execution_count": 5,
      "outputs": [
        {
          "output_type": "stream",
          "text": [
            "x_train shape: (60000, 28, 28, 1)\n",
            "60000 train samples\n",
            "10000 test samples\n",
            "WARNING:tensorflow:From /usr/local/lib/python3.6/dist-packages/tensorflow/python/ops/math_ops.py:3066: to_int32 (from tensorflow.python.ops.math_ops) is deprecated and will be removed in a future version.\n",
            "Instructions for updating:\n",
            "Use tf.cast instead.\n",
            "Train on 60000 samples, validate on 10000 samples\n",
            "Epoch 1/12\n",
            "60000/60000 [==============================] - 270s 4ms/step - loss: 0.2742 - acc: 0.9158 - val_loss: 0.0673 - val_acc: 0.9779\n",
            "Epoch 2/12\n",
            "60000/60000 [==============================] - 269s 4ms/step - loss: 0.1034 - acc: 0.9696 - val_loss: 0.0488 - val_acc: 0.9832\n",
            "Epoch 3/12\n",
            "60000/60000 [==============================] - 267s 4ms/step - loss: 0.0781 - acc: 0.9758 - val_loss: 0.0415 - val_acc: 0.9856\n",
            "Epoch 4/12\n",
            "60000/60000 [==============================] - 269s 4ms/step - loss: 0.0671 - acc: 0.9806 - val_loss: 0.0366 - val_acc: 0.9866\n",
            "Epoch 5/12\n",
            "60000/60000 [==============================] - 268s 4ms/step - loss: 0.0578 - acc: 0.9830 - val_loss: 0.0334 - val_acc: 0.9891\n",
            "Epoch 6/12\n",
            "60000/60000 [==============================] - 267s 4ms/step - loss: 0.0528 - acc: 0.9843 - val_loss: 0.0338 - val_acc: 0.9880\n",
            "Epoch 7/12\n",
            "60000/60000 [==============================] - 266s 4ms/step - loss: 0.0492 - acc: 0.9853 - val_loss: 0.0322 - val_acc: 0.9892\n",
            "Epoch 8/12\n",
            "60000/60000 [==============================] - 282s 5ms/step - loss: 0.0441 - acc: 0.9872 - val_loss: 0.0355 - val_acc: 0.9873\n",
            "Epoch 9/12\n",
            "60000/60000 [==============================] - 589s 10ms/step - loss: 0.0428 - acc: 0.9870 - val_loss: 0.0290 - val_acc: 0.9898\n",
            "Epoch 10/12\n",
            "60000/60000 [==============================] - 557s 9ms/step - loss: 0.0391 - acc: 0.9881 - val_loss: 0.0322 - val_acc: 0.9888\n",
            "Epoch 11/12\n",
            "60000/60000 [==============================] - 559s 9ms/step - loss: 0.0397 - acc: 0.9880 - val_loss: 0.0295 - val_acc: 0.9894\n",
            "Epoch 12/12\n",
            "60000/60000 [==============================] - 557s 9ms/step - loss: 0.0360 - acc: 0.9892 - val_loss: 0.0310 - val_acc: 0.9897\n",
            "Test loss: 0.03098626804196574\n",
            "Test accuracy: 0.9897\n"
          ],
          "name": "stdout"
        }
      ]
    },
    {
      "cell_type": "code",
      "metadata": {
        "id": "huyBM836X7EH",
        "colab_type": "code",
        "colab": {}
      },
      "source": [
        ""
      ],
      "execution_count": 0,
      "outputs": []
    }
  ]
}